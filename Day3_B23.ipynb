{
 "cells": [
  {
   "cell_type": "code",
   "execution_count": 9,
   "metadata": {},
   "outputs": [
    {
     "name": "stdout",
     "output_type": "stream",
     "text": [
      "muthukumar arunachalam\n",
      "Muthukumar Arunachalam\n",
      "MUTHUKUMAR ARUNACHALAM\n",
      "muthukumar arunachalam\n"
     ]
    }
   ],
   "source": [
    "fullname=\"muthukumar arunachalam\"\n",
    "print(fullname)\n",
    "print(fullname.title())\n",
    "print(fullname.upper())\n",
    "print(fullname.lower())"
   ]
  },
  {
   "cell_type": "code",
   "execution_count": 110,
   "metadata": {},
   "outputs": [
    {
     "name": "stdout",
     "output_type": "stream",
     "text": [
      "muthukumar arunachalam\n",
      "Muthukumar Arunachalam\n",
      "Muthukumar arunachalam\n",
      "MUTHUKUMAR ARUNACHALAM\n",
      "All the Best Muthukumar Arunachalam\n"
     ]
    }
   ],
   "source": [
    "first_name='muthukumar'\n",
    "last_name=\"arunachalam\"\n",
    "full_name=f'{first_name} {last_name}'\n",
    "print(full_name)\n",
    "print(full_name.title())\n",
    "print(full_name.capitalize())\n",
    "print(full_name.upper())\n",
    "print(\"All the Best \"+(full_name.title()))\n"
   ]
  },
  {
   "cell_type": "code",
   "execution_count": null,
   "metadata": {},
   "outputs": [],
   "source": [
    "Fiyaz...Need your help on the below code.it throws error\n",
    "\n",
    "#print f(\"Keep up the Good Work{full_name.title()}\")"
   ]
  },
  {
   "cell_type": "code",
   "execution_count": 97,
   "metadata": {},
   "outputs": [
    {
     "name": "stdout",
     "output_type": "stream",
     "text": [
      "Favourite_Langues: PythonJavaSwiftC++\n",
      "Favourite_Langues: \n",
      "Python\n",
      "Java\n",
      "Swift\n",
      "C++\n",
      "Favourite_Langues: \n",
      "\tPython\n",
      "\tJava\n",
      "\tSwift\n",
      "\tC++\n"
     ]
    }
   ],
   "source": [
    "print(\"Favourite_Langues: PythonJavaSwiftC++\")\n",
    "print(\"Favourite_Langues: \\nPython\\nJava\\nSwift\\nC++\")\n",
    "print(\"Favourite_Langues: \\n\\tPython\\n\\tJava\\n\\tSwift\\n\\tC++\")"
   ]
  },
  {
   "cell_type": "code",
   "execution_count": 105,
   "metadata": {},
   "outputs": [
    {
     "name": "stdout",
     "output_type": "stream",
     "text": [
      "Python   \n",
      "Python\n"
     ]
    }
   ],
   "source": [
    "favourite_language=\"Python   \"\n",
    "print(favourite_language)\n",
    "print(favourite_language.rstrip())"
   ]
  },
  {
   "cell_type": "code",
   "execution_count": 106,
   "metadata": {},
   "outputs": [
    {
     "name": "stdout",
     "output_type": "stream",
     "text": [
      "     Python\n",
      "Python\n"
     ]
    }
   ],
   "source": [
    "favourite_language=\"     Python\"\n",
    "print(favourite_language)\n",
    "print(favourite_language.lstrip())"
   ]
  },
  {
   "cell_type": "code",
   "execution_count": 107,
   "metadata": {},
   "outputs": [
    {
     "name": "stdout",
     "output_type": "stream",
     "text": [
      "     Python    \n",
      "Python\n"
     ]
    }
   ],
   "source": [
    "favourite_language=\"     Python    \"\n",
    "print(favourite_language)\n",
    "print(favourite_language.strip())"
   ]
  },
  {
   "cell_type": "code",
   "execution_count": null,
   "metadata": {},
   "outputs": [],
   "source": []
  }
 ],
 "metadata": {
  "kernelspec": {
   "display_name": "Python 3",
   "language": "python",
   "name": "python3"
  },
  "language_info": {
   "codemirror_mode": {
    "name": "ipython",
    "version": 3
   },
   "file_extension": ".py",
   "mimetype": "text/x-python",
   "name": "python",
   "nbconvert_exporter": "python",
   "pygments_lexer": "ipython3",
   "version": "3.7.6"
  }
 },
 "nbformat": 4,
 "nbformat_minor": 4
}
