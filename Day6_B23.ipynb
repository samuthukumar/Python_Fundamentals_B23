{
 "cells": [
  {
   "cell_type": "code",
   "execution_count": 12,
   "metadata": {},
   "outputs": [
    {
     "name": "stdout",
     "output_type": "stream",
     "text": [
      "['muthu', 'selva', 'naveen', 'vikram', 'arun', 'divakar', 'gopi', 'raja']\n"
     ]
    }
   ],
   "source": [
    "students=['muthu','selva','naveen','vikram','arun','divakar','gopi','raja']\n",
    "print(students)"
   ]
  },
  {
   "cell_type": "code",
   "execution_count": 14,
   "metadata": {},
   "outputs": [
    {
     "name": "stdout",
     "output_type": "stream",
     "text": [
      "['arun', 'divakar', 'gopi', 'muthu', 'naveen', 'raja', 'selva', 'vikram']\n",
      "['muthu', 'selva', 'naveen', 'vikram', 'arun', 'divakar', 'gopi', 'raja']\n"
     ]
    }
   ],
   "source": [
    "#Sorting names in Alphabetical Order\n",
    "#Temp -->Sorted(We can get back the old format)\n",
    "print (sorted(students))\n",
    "print(students)"
   ]
  },
  {
   "cell_type": "code",
   "execution_count": 15,
   "metadata": {},
   "outputs": [],
   "source": [
    "#Permenant -->sort (No way to get back old format)\n",
    "students.sort()"
   ]
  },
  {
   "cell_type": "code",
   "execution_count": 16,
   "metadata": {},
   "outputs": [
    {
     "name": "stdout",
     "output_type": "stream",
     "text": [
      "['arun', 'divakar', 'gopi', 'muthu', 'naveen', 'raja', 'selva', 'vikram']\n"
     ]
    }
   ],
   "source": [
    "print(students)"
   ]
  },
  {
   "cell_type": "code",
   "execution_count": 17,
   "metadata": {},
   "outputs": [
    {
     "data": {
      "text/plain": [
       "8"
      ]
     },
     "execution_count": 17,
     "metadata": {},
     "output_type": "execute_result"
    }
   ],
   "source": [
    "#To find out Number of Names in the group\n",
    "len(students)"
   ]
  },
  {
   "cell_type": "code",
   "execution_count": 30,
   "metadata": {},
   "outputs": [
    {
     "data": {
      "text/plain": [
       "['arun', 'divakar', 'gopi', 'muthu', 'naveen', 'raja', 'selva', 'vikram']"
      ]
     },
     "execution_count": 30,
     "metadata": {},
     "output_type": "execute_result"
    }
   ],
   "source": [
    "list (students)"
   ]
  },
  {
   "cell_type": "code",
   "execution_count": null,
   "metadata": {},
   "outputs": [],
   "source": [
    "#introduction to If-Else statements"
   ]
  },
  {
   "cell_type": "code",
   "execution_count": 1,
   "metadata": {},
   "outputs": [
    {
     "ename": "SyntaxError",
     "evalue": "invalid syntax (<ipython-input-1-774413470348>, line 1)",
     "output_type": "error",
     "traceback": [
      "\u001b[0;36m  File \u001b[0;32m\"<ipython-input-1-774413470348>\"\u001b[0;36m, line \u001b[0;32m1\u001b[0m\n\u001b[0;31m    for x==\"raja\":\u001b[0m\n\u001b[0m          ^\u001b[0m\n\u001b[0;31mSyntaxError\u001b[0m\u001b[0;31m:\u001b[0m invalid syntax\n"
     ]
    }
   ],
   "source": [
    "for x==\"raja\":\n",
    "    print(students.upper())\n",
    "    else\n",
    "    print(students.title())"
   ]
  },
  {
   "cell_type": "code",
   "execution_count": null,
   "metadata": {},
   "outputs": [],
   "source": [
    "#Introduction to slicing of lists\n",
    "#General Syntax of a string\n",
    "#variable[startvalue:stopvalue:stepcount]--> Always last value is inclusive"
   ]
  },
  {
   "cell_type": "code",
   "execution_count": 3,
   "metadata": {},
   "outputs": [
    {
     "name": "stdout",
     "output_type": "stream",
     "text": [
      "['muthu', 'selva']\n"
     ]
    }
   ],
   "source": [
    "students=['muthu','selva','naveen','vikram','arun','divakar','gopi','raja']\n",
    "print(students[0:2])"
   ]
  },
  {
   "cell_type": "code",
   "execution_count": 4,
   "metadata": {},
   "outputs": [
    {
     "name": "stdout",
     "output_type": "stream",
     "text": [
      "['naveen', 'vikram']\n",
      "['arun', 'divakar']\n",
      "['gopi', 'raja']\n"
     ]
    }
   ],
   "source": [
    "print(students[2:4])\n",
    "print(students[4:6])\n",
    "print(students[6:8])"
   ]
  },
  {
   "cell_type": "code",
   "execution_count": 6,
   "metadata": {},
   "outputs": [
    {
     "name": "stdout",
     "output_type": "stream",
     "text": [
      "['muthu', 'naveen', 'arun', 'gopi']\n",
      "['muthu', 'vikram', 'gopi']\n"
     ]
    }
   ],
   "source": [
    "#Alternate name to appear\n",
    "print(students[0:8:2])\n",
    "print(students[0:8:3])  #every 3rd name"
   ]
  },
  {
   "cell_type": "code",
   "execution_count": 7,
   "metadata": {},
   "outputs": [
    {
     "name": "stdout",
     "output_type": "stream",
     "text": [
      "['muthu', 'selva', 'naveen', 'vikram', 'arun', 'divakar', 'gopi', 'raja']\n"
     ]
    }
   ],
   "source": [
    "#Introduction to Negative indexing\n",
    "print(students)"
   ]
  },
  {
   "cell_type": "code",
   "execution_count": 8,
   "metadata": {},
   "outputs": [
    {
     "name": "stdout",
     "output_type": "stream",
     "text": [
      "raja\n",
      "gopi\n"
     ]
    }
   ],
   "source": [
    "print(students[-1]) #-- Printing right end name\n",
    "print(students[-2]) #-- Printing right end -1 name"
   ]
  },
  {
   "cell_type": "code",
   "execution_count": 9,
   "metadata": {},
   "outputs": [
    {
     "name": "stdout",
     "output_type": "stream",
     "text": [
      "['muthu', 'selva', 'naveen', 'vikram', 'arun', 'divakar', 'gopi', 'raja']\n",
      "['raja', 'gopi', 'divakar', 'arun', 'vikram', 'naveen', 'selva', 'muthu']\n"
     ]
    }
   ],
   "source": [
    "#Reverse list by using indexing\n",
    "print (students)\n",
    "print(students[::-1])  #---> startvalue=nil,stopvalue=nil,stepcount=-1"
   ]
  },
  {
   "cell_type": "code",
   "execution_count": null,
   "metadata": {},
   "outputs": [],
   "source": []
  }
 ],
 "metadata": {
  "kernelspec": {
   "display_name": "Python 3",
   "language": "python",
   "name": "python3"
  },
  "language_info": {
   "codemirror_mode": {
    "name": "ipython",
    "version": 3
   },
   "file_extension": ".py",
   "mimetype": "text/x-python",
   "name": "python",
   "nbconvert_exporter": "python",
   "pygments_lexer": "ipython3",
   "version": "3.7.6"
  }
 },
 "nbformat": 4,
 "nbformat_minor": 4
}
