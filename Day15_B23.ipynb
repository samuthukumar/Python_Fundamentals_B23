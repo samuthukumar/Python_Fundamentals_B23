{
 "cells": [
  {
   "cell_type": "code",
   "execution_count": null,
   "metadata": {},
   "outputs": [],
   "source": [
    "# File Handling in Python\n",
    "# Point Discussed in this topic\n",
    "1) How to read the data in Python\n",
    "2) How to wirte the data in Python\n",
    "3) How to append the data in Python\n",
    "Create a new file named Blank & Digits & upload them on the Jupyter repository"
   ]
  },
  {
   "cell_type": "code",
   "execution_count": 1,
   "metadata": {},
   "outputs": [
    {
     "name": "stdout",
     "output_type": "stream",
     "text": [
      "{\\rtf1\\ansi\\ansicpg1252\\cocoartf2511\n",
      "\\cocoatextscaling0\\cocoaplatform0{\\fonttbl\\f0\\fswiss\\fcharset0 Helvetica;}\n",
      "{\\colortbl;\\red255\\green255\\blue255;}\n",
      "{\\*\\expandedcolortbl;;}\n",
      "\\paperw11900\\paperh16840\\margl1440\\margr1440\\vieww10800\\viewh8400\\viewkind0\n",
      "\\pard\\tx566\\tx1133\\tx1700\\tx2267\\tx2834\\tx3401\\tx3968\\tx4535\\tx5102\\tx5669\\tx6236\\tx6803\\pardirnatural\\partightenfactor0\n",
      "\n",
      "\\f0\\fs24 \\cf0 \\\n",
      "Muthu\\'92s Textpad to Show Data in Python File Handling\\\n",
      "\\\n",
      "123\\\n",
      "456\\\n",
      "789\\\n",
      "987\\\n",
      "654\\\n",
      "321\\\n",
      "}\n"
     ]
    }
   ],
   "source": [
    "with open ('Data_B23.rtf')as filehandling:\n",
    "    contents= filehandling.read()\n",
    "    print(contents)"
   ]
  },
  {
   "cell_type": "code",
   "execution_count": 3,
   "metadata": {},
   "outputs": [
    {
     "name": "stdout",
     "output_type": "stream",
     "text": [
      "{\\rtf1\\ansi\\ansicpg1252\\cocoartf2511\n",
      "\\cocoatextscaling0\\cocoaplatform0{\\fonttbl\\f0\\fswiss\\fcharset0 Helvetica;}\n",
      "{\\colortbl;\\red255\\green255\\blue255;}\n",
      "{\\*\\expandedcolortbl;;}\n",
      "\\paperw11900\\paperh16840\\margl1440\\margr1440\\vieww10800\\viewh8400\\viewkind0\n",
      "\\pard\\tx566\\tx1133\\tx1700\\tx2267\\tx2834\\tx3401\\tx3968\\tx4535\\tx5102\\tx5669\\tx6236\\tx6803\\pardirnatural\\partightenfactor0\n",
      "\n",
      "\\f0\\fs24 \\cf0 \\\n",
      "Muthu\\'92s Textpad to Show Data in Python File Handling\\\n",
      "\\\n",
      "123\\\n",
      "456\\\n",
      "789\\\n",
      "987\\\n",
      "654\\\n",
      "321\\\n",
      "}\n"
     ]
    }
   ],
   "source": [
    "with open ('Data_B23.rtf')as filehandling:\n",
    "    contents= filehandling.read()\n",
    "    print(contents)"
   ]
  },
  {
   "cell_type": "code",
   "execution_count": 4,
   "metadata": {},
   "outputs": [
    {
     "name": "stdout",
     "output_type": "stream",
     "text": [
      "Data to be shown in Python File Handling \n",
      "\n",
      "123\n",
      "456\n",
      "789\n",
      "987\n",
      "654\n",
      "321\n",
      "\n"
     ]
    }
   ],
   "source": [
    "with open ('D1_B23.txt')as filehandling:   # Filehandling & Contents are just variable names. They can have any names\n",
    "    contents= filehandling.read()          # No Caps & space in between\n",
    "    print(contents)"
   ]
  },
  {
   "cell_type": "code",
   "execution_count": 21,
   "metadata": {},
   "outputs": [
    {
     "name": "stdout",
     "output_type": "stream",
     "text": [
      "Data to be shown in Python File Handling \n",
      "\n",
      "123\n",
      "456\n",
      "789\n",
      "987\n",
      "654\n",
      "321\n",
      "\n"
     ]
    }
   ],
   "source": [
    "#Another method o calling the same\n",
    "filename=\"D1_B23.txt\"\n",
    "with open (filename)as filehandling:\n",
    "     contents= filehandling.read()\n",
    "     print(contents)"
   ]
  },
  {
   "cell_type": "code",
   "execution_count": 25,
   "metadata": {},
   "outputs": [
    {
     "name": "stdout",
     "output_type": "stream",
     "text": [
      "\n",
      "Muthu's Textpad to Show Blank in Python File Handling\n"
     ]
    }
   ],
   "source": [
    "with open ('B1_B23.txt')as filehandling:\n",
    "    contents=filehandling.read()\n",
    "    print (contents)"
   ]
  },
  {
   "cell_type": "code",
   "execution_count": 26,
   "metadata": {},
   "outputs": [],
   "source": [
    "# How to write/overwrite data in the file \n",
    "with open ('B1_B23.txt','w')as filehandling:\n",
    "    contents=filehandling.write(\"I Love to Code in Python\")"
   ]
  },
  {
   "cell_type": "code",
   "execution_count": 28,
   "metadata": {},
   "outputs": [
    {
     "name": "stdout",
     "output_type": "stream",
     "text": [
      "I Love to Code in Python\n"
     ]
    }
   ],
   "source": [
    "with open (\"B1_B23.txt\")as filehandling:\n",
    "     contents=filehandling.read()\n",
    "     print(contents)\n"
   ]
  },
  {
   "cell_type": "code",
   "execution_count": 35,
   "metadata": {},
   "outputs": [],
   "source": [
    "# How to Append Data in the file \n",
    "with open ('D1_B23.txt','a')as filehandling:\n",
    "    contents=filehandling.write('Python is considered an easy language')"
   ]
  },
  {
   "cell_type": "code",
   "execution_count": 36,
   "metadata": {},
   "outputs": [
    {
     "name": "stdout",
     "output_type": "stream",
     "text": [
      "Data to be shown in Python File Handling \n",
      "\n",
      "123\n",
      "456\n",
      "789\n",
      "987\n",
      "654\n",
      "321\n",
      "Python is considered an easy language\n"
     ]
    }
   ],
   "source": [
    "with open ('D1_B23.txt')as filehandling:\n",
    "    contents=filehandling.read()\n",
    "    print(contents)"
   ]
  },
  {
   "cell_type": "code",
   "execution_count": null,
   "metadata": {},
   "outputs": [],
   "source": []
  },
  {
   "cell_type": "code",
   "execution_count": null,
   "metadata": {},
   "outputs": [],
   "source": []
  }
 ],
 "metadata": {
  "kernelspec": {
   "display_name": "Python 3",
   "language": "python",
   "name": "python3"
  },
  "language_info": {
   "codemirror_mode": {
    "name": "ipython",
    "version": 3
   },
   "file_extension": ".py",
   "mimetype": "text/x-python",
   "name": "python",
   "nbconvert_exporter": "python",
   "pygments_lexer": "ipython3",
   "version": "3.7.6"
  }
 },
 "nbformat": 4,
 "nbformat_minor": 4
}
