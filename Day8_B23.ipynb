{
 "cells": [
  {
   "cell_type": "code",
   "execution_count": 5,
   "metadata": {},
   "outputs": [],
   "source": [
    "#Continuation of Dict datatype\n",
    "alien={'colour':'green','points':5,'start_position':0,'current_position':10}\n"
   ]
  },
  {
   "cell_type": "code",
   "execution_count": 6,
   "metadata": {},
   "outputs": [
    {
     "name": "stdout",
     "output_type": "stream",
     "text": [
      "{'colour': 'green', 'points': 5, 'start_position': 0, 'current_position': 10}\n"
     ]
    }
   ],
   "source": [
    "print(alien)"
   ]
  },
  {
   "cell_type": "code",
   "execution_count": 7,
   "metadata": {},
   "outputs": [],
   "source": [
    "#Moving game to level2--> Colour : yellow & Point 10\n",
    "alien['colour']='yellow'\n",
    "alien['points']=10"
   ]
  },
  {
   "cell_type": "code",
   "execution_count": 8,
   "metadata": {},
   "outputs": [
    {
     "name": "stdout",
     "output_type": "stream",
     "text": [
      "{'colour': 'yellow', 'points': 10, 'start_position': 0, 'current_position': 10}\n"
     ]
    }
   ],
   "source": [
    "print(alien)"
   ]
  },
  {
   "cell_type": "code",
   "execution_count": 9,
   "metadata": {},
   "outputs": [],
   "source": [
    "#Deleting the key value pair from dictionary\n",
    "del alien['start_position']"
   ]
  },
  {
   "cell_type": "code",
   "execution_count": 10,
   "metadata": {},
   "outputs": [
    {
     "name": "stdout",
     "output_type": "stream",
     "text": [
      "{'colour': 'yellow', 'points': 10, 'current_position': 10}\n"
     ]
    }
   ],
   "source": [
    "print(alien)"
   ]
  },
  {
   "cell_type": "code",
   "execution_count": 11,
   "metadata": {},
   "outputs": [],
   "source": [
    "#Looping with Dictionary daatatypes:\n",
    "fav_languages={'muthu':'go','arun':'java','giri':'python','diva':\"c++\",'abi':'medicine','dad':'english','stanley':'cobol'}"
   ]
  },
  {
   "cell_type": "code",
   "execution_count": null,
   "metadata": {},
   "outputs": [],
   "source": [
    "#Normal Syntax\n",
    "#for tempVar in main Var\n",
    "#print(tempVar)\n",
    "#With Dict Variable\n",
    "#for temp1,temp2 in mainVar.item()\n",
    "#print(temp1)\n",
    "#print(temp2)"
   ]
  },
  {
   "cell_type": "code",
   "execution_count": 13,
   "metadata": {},
   "outputs": [
    {
     "name": "stdout",
     "output_type": "stream",
     "text": [
      "key:muthu\n",
      "value:go\n",
      "key:arun\n",
      "value:java\n",
      "key:giri\n",
      "value:python\n",
      "key:diva\n",
      "value:c++\n",
      "key:abi\n",
      "value:medicine\n",
      "key:dad\n",
      "value:english\n",
      "key:stanley\n",
      "value:cobol\n"
     ]
    }
   ],
   "source": [
    "for x,y in fav_languages.items():\n",
    "    print(f'key:{x}')\n",
    "    print(f'value:{y}')"
   ]
  },
  {
   "cell_type": "code",
   "execution_count": 18,
   "metadata": {},
   "outputs": [
    {
     "name": "stdout",
     "output_type": "stream",
     "text": [
      "NAME:MUTHU\n",
      "TOPIC:GO\n",
      "\n",
      "NAME:ARUN\n",
      "TOPIC:JAVA\n",
      "\n",
      "NAME:GIRI\n",
      "TOPIC:PYTHON\n",
      "\n",
      "NAME:DIVA\n",
      "TOPIC:C++\n",
      "\n",
      "NAME:ABI\n",
      "TOPIC:MEDICINE\n",
      "\n",
      "NAME:DAD\n",
      "TOPIC:ENGLISH\n",
      "\n",
      "NAME:STANLEY\n",
      "TOPIC:COBOL\n",
      "\n"
     ]
    }
   ],
   "source": [
    "for x,y in fav_languages.items():\n",
    "    print(f'Name:{x}'.upper())\n",
    "    print(f'Topic:{y}\\n'.upper())"
   ]
  },
  {
   "cell_type": "code",
   "execution_count": 22,
   "metadata": {},
   "outputs": [
    {
     "name": "stdout",
     "output_type": "stream",
     "text": [
      "\n",
      " students:MUTHU\n",
      "\n",
      " students:ARUN\n",
      "\n",
      " students:GIRI\n",
      "\n",
      " students:DIVA\n",
      "\n",
      " students:ABI\n",
      "\n",
      " students:DAD\n",
      "\n",
      " students:STANLEY\n"
     ]
    }
   ],
   "source": [
    "#Need to know names --> Only Keys & not Values\n",
    "#Need to know topics--> =only Values & not keys\n",
    "\n",
    "for x in fav_languages.keys():\n",
    "    print(f'\\n students:{x.upper()}')"
   ]
  },
  {
   "cell_type": "code",
   "execution_count": 23,
   "metadata": {},
   "outputs": [
    {
     "name": "stdout",
     "output_type": "stream",
     "text": [
      "\n",
      " Topics:GO\n",
      "\n",
      " Topics:JAVA\n",
      "\n",
      " Topics:PYTHON\n",
      "\n",
      " Topics:C++\n",
      "\n",
      " Topics:MEDICINE\n",
      "\n",
      " Topics:ENGLISH\n",
      "\n",
      " Topics:COBOL\n"
     ]
    }
   ],
   "source": [
    "for y in fav_languages.values():\n",
    "    print(f'\\n Topics:{y.upper()}')"
   ]
  },
  {
   "cell_type": "code",
   "execution_count": null,
   "metadata": {},
   "outputs": [],
   "source": []
  }
 ],
 "metadata": {
  "kernelspec": {
   "display_name": "Python 3",
   "language": "python",
   "name": "python3"
  },
  "language_info": {
   "codemirror_mode": {
    "name": "ipython",
    "version": 3
   },
   "file_extension": ".py",
   "mimetype": "text/x-python",
   "name": "python",
   "nbconvert_exporter": "python",
   "pygments_lexer": "ipython3",
   "version": "3.7.6"
  }
 },
 "nbformat": 4,
 "nbformat_minor": 4
}
